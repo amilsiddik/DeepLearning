# Mencetak teks ke layar
print("Halo, dunia!")

# Menjumlahkan dua angka
angka1 = 5
angka2 = 3
jumlah = angka1 + angka2

# Menampilkan hasil penjumlahan
print("Hasil penjumlahan:", jumlah)
